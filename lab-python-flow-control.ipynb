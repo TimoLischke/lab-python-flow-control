{
 "cells": [
  {
   "cell_type": "markdown",
   "id": "d3bfc191-8885-42ee-b0a0-bbab867c6f9f",
   "metadata": {
    "tags": []
   },
   "source": [
    "# Lab | Flow Control"
   ]
  },
  {
   "cell_type": "markdown",
   "id": "3851fcd1-cf98-4653-9c89-e003b7ec9400",
   "metadata": {},
   "source": [
    "## Exercise: Managing Customer Orders Optimized\n",
    "\n",
    "In the last lab, you were starting an online store that sells various products. To ensure smooth operations, you developed a program that manages customer orders and inventory.\n",
    "\n",
    "You did so without using flow control. Let's go a step further and improve this code.\n",
    "\n",
    "Follow the steps below to complete the exercise:\n",
    "\n",
    "1. Look at your code from the lab data structures, and improve repeated code with loops.\n",
    "\n",
    "2. Instead of asking the user to input the name of three products that a customer wants to order, do the following:\n",
    "    \n",
    "    a. Prompt the user to enter the name of a product that a customer wants to order.\n",
    "    \n",
    "    b. Add the product name to the \"customer_orders\" set.\n",
    "    \n",
    "    c. Ask the user if they want to add another product (yes/no).\n",
    "    \n",
    "    d. Continue the loop until the user does not want to add another product.\n",
    "\n",
    "3. Instead of updating the inventory by subtracting 1 from the quantity of each product, only do it for  the products that were ordered (those in \"customer_orders\")."
   ]
  },
  {
   "cell_type": "code",
   "execution_count": 1,
   "id": "d07af279-ac64-4918-bc2c-813471269ca7",
   "metadata": {},
   "outputs": [
    {
     "name": "stdout",
     "output_type": "stream",
     "text": [
      "['t-shirt', 'mug', 'hat', 'book', 'keychain']\n"
     ]
    }
   ],
   "source": [
    "# Look at your code from the lab data structures, and improve repeated code with loops.\n",
    "# Define a list called products that contains the following items: \"t-shirt\", \"mug\", \"hat\", \"book\", \"keychain\".\n",
    "products = [\"t-shirt\", \"mug\", \"hat\", \"book\", \"keychain\"]\n",
    "print(products)"
   ]
  },
  {
   "cell_type": "code",
   "execution_count": 63,
   "id": "73f681bf-382d-4ae2-89a4-fa83ee2638c2",
   "metadata": {},
   "outputs": [
    {
     "name": "stdout",
     "output_type": "stream",
     "text": [
      "{}\n"
     ]
    }
   ],
   "source": [
    "inventory = {}\n",
    "print(inventory)"
   ]
  },
  {
   "cell_type": "code",
   "execution_count": 67,
   "id": "c2bcdcb2-51a5-493a-8559-49791498e43f",
   "metadata": {},
   "outputs": [
    {
     "name": "stdin",
     "output_type": "stream",
     "text": [
      "Please enter the quantity of t-shirt:  10\n",
      "Please enter the quantity of mug:  20\n",
      "Please enter the quantity of hat:  30\n",
      "Please enter the quantity of book:  40\n",
      "Please enter the quantity of keychain:  50\n"
     ]
    },
    {
     "name": "stdout",
     "output_type": "stream",
     "text": [
      "{'t-shirt': 10, 'mug': 20, 'hat': 30, 'book': 40, 'keychain': 50}\n"
     ]
    },
    {
     "data": {
      "text/plain": [
       "dict"
      ]
     },
     "execution_count": 67,
     "metadata": {},
     "output_type": "execute_result"
    }
   ],
   "source": [
    "# Look at your code from the lab data structures, and improve repeated code with loops.\n",
    "for product in products:\n",
    "    inventory[product] = (int(input(f\"Please enter the quantity of {product}: \")))\n",
    "\n",
    "print(inventory)\n",
    "type(inventory)"
   ]
  },
  {
   "cell_type": "code",
   "execution_count": 169,
   "id": "95449a60-ea9b-4d7b-a1af-3802611463b8",
   "metadata": {},
   "outputs": [
    {
     "name": "stdin",
     "output_type": "stream",
     "text": [
      "Please enter the product ordered by customer:  mug\n"
     ]
    },
    {
     "name": "stdout",
     "output_type": "stream",
     "text": [
      "set()\n",
      "mug\n",
      "mug found in inventory.\n"
     ]
    },
    {
     "name": "stdin",
     "output_type": "stream",
     "text": [
      "Do you want to order another product: yes/no? yes\n",
      "Please enter the product ordered by customer:  hat\n"
     ]
    },
    {
     "name": "stdout",
     "output_type": "stream",
     "text": [
      "{'mug'}\n",
      "hat\n",
      "hat found in inventory.\n"
     ]
    },
    {
     "name": "stdin",
     "output_type": "stream",
     "text": [
      "Do you want to order another product: yes/no? no\n"
     ]
    },
    {
     "name": "stdout",
     "output_type": "stream",
     "text": [
      "{'hat', 'mug'}\n"
     ]
    },
    {
     "data": {
      "text/plain": [
       "set"
      ]
     },
     "execution_count": 169,
     "metadata": {},
     "output_type": "execute_result"
    }
   ],
   "source": [
    "# Prompt the user to enter the name of a product that a customer wants to order.\n",
    "customer_orders = set()\n",
    "selected_item = set()\n",
    "\n",
    "# Ask the user if they want to add another product (yes/no).\n",
    "# Add the product name to the \"customer_orders\" set.\n",
    "answer=True\n",
    "while answer==True:\n",
    "    selected_item=input(f\"Please enter the product ordered by customer: \")\n",
    "    print(customer_orders)\n",
    "    print(selected_item)\n",
    "    if selected_item in products:\n",
    "        print(f\"{selected_item} found in inventory.\")\n",
    "        customer_orders.add(selected_item)\n",
    "    else:\n",
    "        print(f\"{selected_item} not found in inventory.\") # Continue the loop until the user does not want to add another product.\n",
    "    more=input(f\"Do you want to order another product: yes/no?\")\n",
    "    if more == \"yes\":\n",
    "        answer = True\n",
    "    elif more == \"no\":\n",
    "        answer = False\n",
    "\n",
    "print(customer_orders)\n",
    "type(customer_orders)"
   ]
  },
  {
   "cell_type": "code",
   "execution_count": 171,
   "id": "10e306ef-ce04-4fd0-9af1-cedb29f427f4",
   "metadata": {},
   "outputs": [
    {
     "name": "stdout",
     "output_type": "stream",
     "text": [
      "{'t-shirt': 10, 'mug': 19, 'hat': 29, 'book': 40, 'keychain': 50}\n"
     ]
    }
   ],
   "source": [
    "# Update the inventory by subtracting the quantity of each product that was ordered (those in \"customer_orders\").\n",
    "\n",
    "for customer_order in customer_orders:\n",
    "    inventory[customer_order] -= 1\n",
    "print(inventory)"
   ]
  },
  {
   "cell_type": "code",
   "execution_count": null,
   "id": "6842f8f9-26f8-4d22-87dc-7a09a87412d0",
   "metadata": {},
   "outputs": [],
   "source": []
  }
 ],
 "metadata": {
  "kernelspec": {
   "display_name": "Python [conda env:base] *",
   "language": "python",
   "name": "conda-base-py"
  },
  "language_info": {
   "codemirror_mode": {
    "name": "ipython",
    "version": 3
   },
   "file_extension": ".py",
   "mimetype": "text/x-python",
   "name": "python",
   "nbconvert_exporter": "python",
   "pygments_lexer": "ipython3",
   "version": "3.12.7"
  }
 },
 "nbformat": 4,
 "nbformat_minor": 5
}
